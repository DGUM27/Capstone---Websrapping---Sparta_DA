{
 "cells": [
  {
   "cell_type": "markdown",
   "metadata": {},
   "source": [
    "# Capstone Webscrapping using BeautifulSoup\n",
    "\n",
    "This notebook contains guidances & tasks on the data processing for the application\n",
    "\n",
    "***Perbandingan pergerakan Kurs Dollar (USD) terhadap Rupiah (IDR)***\n",
    "\n",
    "\n",
    "## Requesting the Data and Creating a BeautifulSoup\n",
    "\n",
    "Let's begin with requesting the web from the site with `get` method."
   ]
  },
  {
   "cell_type": "code",
   "execution_count": 1,
   "metadata": {},
   "outputs": [],
   "source": [
    "from flask import Flask, render_template\n",
    "import pandas as pd\n",
    "import matplotlib\n",
    "import matplotlib.pyplot as plt\n",
    "from io import BytesIO\n",
    "import base64\n",
    "from bs4 import BeautifulSoup \n",
    "import requests"
   ]
  },
  {
   "cell_type": "code",
   "execution_count": 2,
   "metadata": {},
   "outputs": [],
   "source": [
    "import requests\n",
    "\n",
    "url_get = requests.get('https://www.exchange-rates.org/history/IDR/USD/T')"
   ]
  },
  {
   "cell_type": "markdown",
   "metadata": {},
   "source": [
    "To visualize what exactly you get from the `request.get`, we can use .content so ee what we exactly get, in here i slice it so it won't make our screen full of the html we get from the page. You can delete the slicing if you want to see what we fully get."
   ]
  },
  {
   "cell_type": "code",
   "execution_count": 3,
   "metadata": {
    "ExecuteTime": {
     "end_time": "2020-01-13T05:12:23.290648Z",
     "start_time": "2020-01-13T05:12:23.277650Z"
    },
    "scrolled": true
   },
   "outputs": [
    {
     "data": {
      "text/plain": [
       "b'!DOCTYPE html>\\r\\n<!--[if lt IE 9]>\\r\\n<html class=\"no-js ie8 oldie\" lang=\"en\" xml:lang=\\'en\\'>\\r\\n<![endif'"
      ]
     },
     "execution_count": 3,
     "metadata": {},
     "output_type": "execute_result"
    }
   ],
   "source": [
    "url_get.content[1:100]"
   ]
  },
  {
   "cell_type": "markdown",
   "metadata": {},
   "source": [
    "As we can see we get a very unstructured and complex html, which actually contains the codes needed to show the webpages on your web browser. But we as human still confused what and where we can use that piece of code, so here where we use the beautifulsoup. Beautiful soup class will result a beautifulsoup object. Beautiful Soup transforms a complex HTML document into a complex tree of Python objects. \n",
    "\n",
    "Let's make Beautiful soup object and feel free to explore the object here."
   ]
  },
  {
   "cell_type": "code",
   "execution_count": 4,
   "metadata": {
    "ExecuteTime": {
     "end_time": "2020-01-13T05:12:23.808122Z",
     "start_time": "2020-01-13T05:12:23.292610Z"
    }
   },
   "outputs": [
    {
     "name": "stdout",
     "output_type": "stream",
     "text": [
      "<class 'bs4.BeautifulSoup'>\n"
     ]
    }
   ],
   "source": [
    "from bs4 import BeautifulSoup \n",
    "\n",
    "soup = BeautifulSoup(url_get.content,\"html.parser\")\n",
    "print(type(soup))"
   ]
  },
  {
   "cell_type": "markdown",
   "metadata": {},
   "source": [
    "## Finding the right key to scrap the data & Extracting the right information"
   ]
  },
  {
   "cell_type": "markdown",
   "metadata": {},
   "source": [
    "Find the key and put the key into the `.find()` Put all the exploring the right key at this cell. (please change this markdown with your explanation)"
   ]
  },
  {
   "cell_type": "code",
   "execution_count": 5,
   "metadata": {
    "ExecuteTime": {
     "end_time": "2020-01-13T05:12:23.878904Z",
     "start_time": "2020-01-13T05:12:23.854974Z"
    },
    "scrolled": true
   },
   "outputs": [
    {
     "name": "stdout",
     "output_type": "stream",
     "text": [
      "table class=\"table table-striped table-hover table-hover-solid-row table-simple history-data\">\n",
      " <tb\n"
     ]
    }
   ],
   "source": [
    "table = soup.find('table', attrs={'class':'table table-striped table-hover table-hover-solid-row table-simple history-data'})\n",
    "print(table.prettify()[1:100])"
   ]
  },
  {
   "cell_type": "code",
   "execution_count": 6,
   "metadata": {},
   "outputs": [
    {
     "data": {
      "text/plain": [
       "[<tr><td>7/8/2022</td><td>Friday</td><td><a href=\"/Rate/USD/IDR/7-8-2022\">14,976.95000</a> IDR</td><td class=\"text-narrow-screen-hidden\"><a href=\"/Rate/USD/IDR/7-8-2022\">USD IDR rate for 7/8/2022</a></td></tr>,\n",
       " <tr><td>7/7/2022</td><td>Thursday</td><td><a href=\"/Rate/USD/IDR/7-7-2022\">14,964.65000</a> IDR</td><td class=\"text-narrow-screen-hidden\"><a href=\"/Rate/USD/IDR/7-7-2022\">USD IDR rate for 7/7/2022</a></td></tr>,\n",
       " <tr><td>7/6/2022</td><td>Wednesday</td><td><a href=\"/Rate/USD/IDR/7-6-2022\">14,996.82520</a> IDR</td><td class=\"text-narrow-screen-hidden\"><a href=\"/Rate/USD/IDR/7-6-2022\">USD IDR rate for 7/6/2022</a></td></tr>,\n",
       " <tr><td>7/5/2022</td><td>Tuesday</td><td><a href=\"/Rate/USD/IDR/7-5-2022\">15,014.65000</a> IDR</td><td class=\"text-narrow-screen-hidden\"><a href=\"/Rate/USD/IDR/7-5-2022\">USD IDR rate for 7/5/2022</a></td></tr>,\n",
       " <tr><td>7/4/2022</td><td>Monday</td><td><a href=\"/Rate/USD/IDR/7-4-2022\">14,994.55000</a> IDR</td><td class=\"text-narrow-screen-hidden\"><a href=\"/Rate/USD/IDR/7-4-2022\">USD IDR rate for 7/4/2022</a></td></tr>,\n",
       " <tr><td>7/1/2022</td><td>Friday</td><td><a href=\"/Rate/USD/IDR/7-1-2022\">14,975.15000</a> IDR</td><td class=\"text-narrow-screen-hidden\"><a href=\"/Rate/USD/IDR/7-1-2022\">USD IDR rate for 7/1/2022</a></td></tr>,\n",
       " <tr><td>6/30/2022</td><td>Thursday</td><td><a href=\"/Rate/USD/IDR/6-30-2022\">14,928.80000</a> IDR</td><td class=\"text-narrow-screen-hidden\"><a href=\"/Rate/USD/IDR/6-30-2022\">USD IDR rate for 6/30/2022</a></td></tr>,\n",
       " <tr><td>6/29/2022</td><td>Wednesday</td><td><a href=\"/Rate/USD/IDR/6-29-2022\">14,868.90000</a> IDR</td><td class=\"text-narrow-screen-hidden\"><a href=\"/Rate/USD/IDR/6-29-2022\">USD IDR rate for 6/29/2022</a></td></tr>,\n",
       " <tr><td>6/28/2022</td><td>Tuesday</td><td><a href=\"/Rate/USD/IDR/6-28-2022\">14,852.35000</a> IDR</td><td class=\"text-narrow-screen-hidden\"><a href=\"/Rate/USD/IDR/6-28-2022\">USD IDR rate for 6/28/2022</a></td></tr>,\n",
       " <tr><td>6/27/2022</td><td>Monday</td><td><a href=\"/Rate/USD/IDR/6-27-2022\">14,807.70000</a> IDR</td><td class=\"text-narrow-screen-hidden\"><a href=\"/Rate/USD/IDR/6-27-2022\">USD IDR rate for 6/27/2022</a></td></tr>]"
      ]
     },
     "execution_count": 6,
     "metadata": {},
     "output_type": "execute_result"
    }
   ],
   "source": [
    "tr = table.find_all('tr')\n",
    "tr[:10]"
   ]
  },
  {
   "cell_type": "code",
   "execution_count": 7,
   "metadata": {
    "scrolled": true
   },
   "outputs": [
    {
     "data": {
      "text/plain": [
       "[<td>7/8/2022</td>,\n",
       " <td>Friday</td>,\n",
       " <td><a href=\"/Rate/USD/IDR/7-8-2022\">14,976.95000</a> IDR</td>,\n",
       " <td class=\"text-narrow-screen-hidden\"><a href=\"/Rate/USD/IDR/7-8-2022\">USD IDR rate for 7/8/2022</a></td>,\n",
       " <td>7/7/2022</td>,\n",
       " <td>Thursday</td>,\n",
       " <td><a href=\"/Rate/USD/IDR/7-7-2022\">14,964.65000</a> IDR</td>,\n",
       " <td class=\"text-narrow-screen-hidden\"><a href=\"/Rate/USD/IDR/7-7-2022\">USD IDR rate for 7/7/2022</a></td>,\n",
       " <td>7/6/2022</td>,\n",
       " <td>Wednesday</td>]"
      ]
     },
     "execution_count": 7,
     "metadata": {},
     "output_type": "execute_result"
    }
   ],
   "source": [
    "td = table.find_all('td')\n",
    "td[:10]"
   ]
  },
  {
   "cell_type": "code",
   "execution_count": 8,
   "metadata": {},
   "outputs": [
    {
     "data": {
      "text/plain": [
       "[<a href=\"/Rate/USD/IDR/7-8-2022\">14,976.95000</a>,\n",
       " <a href=\"/Rate/USD/IDR/7-8-2022\">USD IDR rate for 7/8/2022</a>,\n",
       " <a href=\"/Rate/USD/IDR/7-7-2022\">14,964.65000</a>,\n",
       " <a href=\"/Rate/USD/IDR/7-7-2022\">USD IDR rate for 7/7/2022</a>,\n",
       " <a href=\"/Rate/USD/IDR/7-6-2022\">14,996.82520</a>,\n",
       " <a href=\"/Rate/USD/IDR/7-6-2022\">USD IDR rate for 7/6/2022</a>,\n",
       " <a href=\"/Rate/USD/IDR/7-5-2022\">15,014.65000</a>,\n",
       " <a href=\"/Rate/USD/IDR/7-5-2022\">USD IDR rate for 7/5/2022</a>,\n",
       " <a href=\"/Rate/USD/IDR/7-4-2022\">14,994.55000</a>,\n",
       " <a href=\"/Rate/USD/IDR/7-4-2022\">USD IDR rate for 7/4/2022</a>]"
      ]
     },
     "execution_count": 8,
     "metadata": {},
     "output_type": "execute_result"
    }
   ],
   "source": [
    "a = table.find_all('a')\n",
    "a[:10]"
   ]
  },
  {
   "cell_type": "markdown",
   "metadata": {},
   "source": [
    "Do the scrapping process here (please change this markdown with your explanation)"
   ]
  },
  {
   "cell_type": "code",
   "execution_count": 9,
   "metadata": {
    "ExecuteTime": {
     "end_time": "2020-01-13T05:12:24.008256Z",
     "start_time": "2020-01-13T05:12:23.980358Z"
    }
   },
   "outputs": [
    {
     "data": {
      "text/plain": [
       "[('7/7/2022', '14,964.65000 IDR'),\n",
       " ('7/6/2022', '14,996.82520 IDR'),\n",
       " ('7/5/2022', '15,014.65000 IDR'),\n",
       " ('7/4/2022', '14,994.55000 IDR'),\n",
       " ('7/1/2022', '14,975.15000 IDR'),\n",
       " ('6/30/2022', '14,928.80000 IDR'),\n",
       " ('6/29/2022', '14,868.90000 IDR'),\n",
       " ('6/28/2022', '14,852.35000 IDR'),\n",
       " ('6/27/2022', '14,807.70000 IDR'),\n",
       " ('6/24/2022', '14,829.50000 IDR'),\n",
       " ('6/23/2022', '14,848.80000 IDR'),\n",
       " ('6/22/2022', '14,833.90000 IDR'),\n",
       " ('6/21/2022', '14,833.60000 IDR'),\n",
       " ('6/20/2022', '14,827.75000 IDR'),\n",
       " ('6/17/2022', '14,838.85000 IDR'),\n",
       " ('6/16/2022', '14,809.20000 IDR'),\n",
       " ('6/15/2022', '14,695.10000 IDR'),\n",
       " ('6/14/2022', '14,764.20000 IDR'),\n",
       " ('6/13/2022', '14,782.80000 IDR'),\n",
       " ('6/10/2022', '14,614.95000 IDR'),\n",
       " ('6/9/2022', '14,611.85000 IDR'),\n",
       " ('6/8/2022', '14,513.20000 IDR'),\n",
       " ('6/7/2022', '14,465.30000 IDR'),\n",
       " ('6/6/2022', '14,437.70000 IDR'),\n",
       " ('6/3/2022', '14,433.50000 IDR'),\n",
       " ('6/2/2022', '14,435.00000 IDR'),\n",
       " ('6/1/2022', '14,555.60000 IDR'),\n",
       " ('5/31/2022', '14,580.63428 IDR'),\n",
       " ('5/30/2022', '14,538.55000 IDR'),\n",
       " ('5/27/2022', '14,539.40000 IDR'),\n",
       " ('5/26/2022', '14,610.10000 IDR'),\n",
       " ('5/25/2022', '14,632.75000 IDR'),\n",
       " ('5/24/2022', '14,635.75000 IDR'),\n",
       " ('5/23/2022', '14,625.70000 IDR'),\n",
       " ('5/20/2022', '14,672.44395 IDR'),\n",
       " ('5/19/2022', '14,632.60000 IDR'),\n",
       " ('5/18/2022', '14,740.05000 IDR'),\n",
       " ('5/17/2022', '14,630.65000 IDR'),\n",
       " ('5/16/2022', '14,647.20000 IDR'),\n",
       " ('5/13/2022', '14,665.95000 IDR'),\n",
       " ('5/12/2022', '14,667.00000 IDR'),\n",
       " ('5/11/2022', '14,545.90000 IDR'),\n",
       " ('5/10/2022', '14,526.40000 IDR'),\n",
       " ('5/9/2022', '14,552.25000 IDR'),\n",
       " ('5/6/2022', '14,498.65000 IDR'),\n",
       " ('5/5/2022', '14,458.75000 IDR'),\n",
       " ('5/4/2022', '14,430.00000 IDR'),\n",
       " ('5/3/2022', '14,455.80000 IDR'),\n",
       " ('5/2/2022', '14,526.60000 IDR'),\n",
       " ('4/29/2022', '14,525.10000 IDR'),\n",
       " ('4/28/2022', '14,516.00000 IDR'),\n",
       " ('4/27/2022', '14,447.55000 IDR'),\n",
       " ('4/26/2022', '14,432.50000 IDR'),\n",
       " ('4/25/2022', '14,426.50000 IDR'),\n",
       " ('4/22/2022', '14,470.00000 IDR'),\n",
       " ('4/21/2022', '14,386.00000 IDR'),\n",
       " ('4/20/2022', '14,364.00000 IDR'),\n",
       " ('4/19/2022', '14,375.50000 IDR'),\n",
       " ('4/18/2022', '14,353.85000 IDR'),\n",
       " ('4/15/2022', '14,366.76704 IDR'),\n",
       " ('4/14/2022', '14,383.95000 IDR'),\n",
       " ('4/13/2022', '14,372.00000 IDR'),\n",
       " ('4/12/2022', '14,376.50000 IDR'),\n",
       " ('4/11/2022', '14,373.00000 IDR'),\n",
       " ('4/8/2022', '14,370.65000 IDR'),\n",
       " ('4/7/2022', '14,374.45000 IDR'),\n",
       " ('4/6/2022', '14,380.95000 IDR'),\n",
       " ('4/5/2022', '14,368.50000 IDR'),\n",
       " ('4/4/2022', '14,328.90000 IDR'),\n",
       " ('4/1/2022', '14,371.45000 IDR'),\n",
       " ('3/31/2022', '14,348.05000 IDR'),\n",
       " ('3/30/2022', '14,330.50000 IDR'),\n",
       " ('3/29/2022', '14,347.50000 IDR'),\n",
       " ('3/28/2022', '14,363.90000 IDR'),\n",
       " ('3/25/2022', '14,357.40000 IDR'),\n",
       " ('3/24/2022', '14,362.10000 IDR'),\n",
       " ('3/23/2022', '14,381.05000 IDR'),\n",
       " ('3/22/2022', '14,350.50000 IDR'),\n",
       " ('3/21/2022', '14,341.95000 IDR'),\n",
       " ('3/18/2022', '14,342.35000 IDR'),\n",
       " ('3/17/2022', '14,330.50000 IDR'),\n",
       " ('3/16/2022', '14,267.50000 IDR'),\n",
       " ('3/15/2022', '14,312.00000 IDR'),\n",
       " ('3/14/2022', '14,351.50000 IDR'),\n",
       " ('3/11/2022', '14,327.00000 IDR'),\n",
       " ('3/10/2022', '14,280.00000 IDR'),\n",
       " ('3/9/2022', '14,257.95000 IDR'),\n",
       " ('3/8/2022', '14,363.70000 IDR'),\n",
       " ('3/7/2022', '14,407.40000 IDR'),\n",
       " ('3/4/2022', '14,383.20000 IDR'),\n",
       " ('3/3/2022', '14,359.40000 IDR'),\n",
       " ('3/2/2022', '14,391.50000 IDR'),\n",
       " ('3/1/2022', '14,429.84376 IDR'),\n",
       " ('2/28/2022', '14,367.90938 IDR'),\n",
       " ('2/25/2022', '14,334.25000 IDR'),\n",
       " ('2/24/2022', '14,421.45000 IDR'),\n",
       " ('2/23/2022', '14,351.75000 IDR'),\n",
       " ('2/22/2022', '14,380.20000 IDR'),\n",
       " ('2/21/2022', '14,354.80000 IDR'),\n",
       " ('2/18/2022', '14,366.90000 IDR'),\n",
       " ('2/17/2022', '14,357.40000 IDR'),\n",
       " ('2/16/2022', '14,274.45000 IDR'),\n",
       " ('2/15/2022', '14,265.45000 IDR'),\n",
       " ('2/14/2022', '14,303.45000 IDR'),\n",
       " ('2/11/2022', '14,344.75000 IDR'),\n",
       " ('2/10/2022', '14,357.00000 IDR'),\n",
       " ('2/9/2022', '14,334.30000 IDR'),\n",
       " ('2/8/2022', '14,386.75000 IDR'),\n",
       " ('2/7/2022', '14,394.90000 IDR'),\n",
       " ('2/4/2022', '14,400.70000 IDR'),\n",
       " ('2/3/2022', '14,387.00000 IDR'),\n",
       " ('2/2/2022', '14,355.35000 IDR'),\n",
       " ('2/1/2022', '14,328.30000 IDR'),\n",
       " ('1/31/2022', '14,339.40000 IDR'),\n",
       " ('1/28/2022', '14,383.40000 IDR'),\n",
       " ('1/27/2022', '14,395.00000 IDR'),\n",
       " ('1/26/2022', '14,366.45000 IDR'),\n",
       " ('1/25/2022', '14,330.55000 IDR'),\n",
       " ('1/24/2022', '14,350.70000 IDR'),\n",
       " ('1/21/2022', '14,329.75000 IDR'),\n",
       " ('1/20/2022', '14,327.60000 IDR'),\n",
       " ('1/19/2022', '14,362.85000 IDR'),\n",
       " ('1/18/2022', '14,358.70000 IDR'),\n",
       " ('1/17/2022', '14,331.25000 IDR'),\n",
       " ('1/14/2022', '14,314.55000 IDR'),\n",
       " ('1/13/2022', '14,309.00000 IDR'),\n",
       " ('1/12/2022', '14,298.95000 IDR'),\n",
       " ('1/11/2022', '14,284.46501 IDR'),\n",
       " ('1/10/2022', '14,290.15000 IDR')]"
      ]
     },
     "execution_count": 9,
     "metadata": {},
     "output_type": "execute_result"
    }
   ],
   "source": [
    "temp = [] #initiating a tuple\n",
    "        \n",
    "for i in range(1, len(tr)):\n",
    "    \n",
    "    row = table.find_all(tr)[i]\n",
    "    if len(row) == 4:\n",
    "\n",
    "        #get date\n",
    "        date = row.find_all('td')[0].text\n",
    "        date = date.strip() #for removing the excess whitespace\n",
    "\n",
    "        #get day\n",
    "        day = row.find_all('td')[1].text\n",
    "        day = day.strip() #for removing the excess whitespace\n",
    "   \n",
    "        #get value\n",
    "        idr = row.find_all('td')[2].text\n",
    "        idr = idr.strip() #for removing the excess whitespace\n",
    "    \n",
    "        #get note\n",
    "        note = row.find_all('td')[3].text\n",
    "        note = note.strip() #for removing the excess whitespace\n",
    " \n",
    "    temp.append((date,idr)) \n",
    "    \n",
    "temp"
   ]
  },
  {
   "cell_type": "code",
   "execution_count": 10,
   "metadata": {},
   "outputs": [
    {
     "data": {
      "text/plain": [
       "[('1/10/2022', '14,290.15000 IDR'),\n",
       " ('1/11/2022', '14,284.46501 IDR'),\n",
       " ('1/12/2022', '14,298.95000 IDR'),\n",
       " ('1/13/2022', '14,309.00000 IDR'),\n",
       " ('1/14/2022', '14,314.55000 IDR'),\n",
       " ('1/17/2022', '14,331.25000 IDR'),\n",
       " ('1/18/2022', '14,358.70000 IDR'),\n",
       " ('1/19/2022', '14,362.85000 IDR'),\n",
       " ('1/20/2022', '14,327.60000 IDR'),\n",
       " ('1/21/2022', '14,329.75000 IDR'),\n",
       " ('1/24/2022', '14,350.70000 IDR'),\n",
       " ('1/25/2022', '14,330.55000 IDR'),\n",
       " ('1/26/2022', '14,366.45000 IDR'),\n",
       " ('1/27/2022', '14,395.00000 IDR'),\n",
       " ('1/28/2022', '14,383.40000 IDR'),\n",
       " ('1/31/2022', '14,339.40000 IDR'),\n",
       " ('2/1/2022', '14,328.30000 IDR'),\n",
       " ('2/2/2022', '14,355.35000 IDR'),\n",
       " ('2/3/2022', '14,387.00000 IDR'),\n",
       " ('2/4/2022', '14,400.70000 IDR'),\n",
       " ('2/7/2022', '14,394.90000 IDR'),\n",
       " ('2/8/2022', '14,386.75000 IDR'),\n",
       " ('2/9/2022', '14,334.30000 IDR'),\n",
       " ('2/10/2022', '14,357.00000 IDR'),\n",
       " ('2/11/2022', '14,344.75000 IDR'),\n",
       " ('2/14/2022', '14,303.45000 IDR'),\n",
       " ('2/15/2022', '14,265.45000 IDR'),\n",
       " ('2/16/2022', '14,274.45000 IDR'),\n",
       " ('2/17/2022', '14,357.40000 IDR'),\n",
       " ('2/18/2022', '14,366.90000 IDR'),\n",
       " ('2/21/2022', '14,354.80000 IDR'),\n",
       " ('2/22/2022', '14,380.20000 IDR'),\n",
       " ('2/23/2022', '14,351.75000 IDR'),\n",
       " ('2/24/2022', '14,421.45000 IDR'),\n",
       " ('2/25/2022', '14,334.25000 IDR'),\n",
       " ('2/28/2022', '14,367.90938 IDR'),\n",
       " ('3/1/2022', '14,429.84376 IDR'),\n",
       " ('3/2/2022', '14,391.50000 IDR'),\n",
       " ('3/3/2022', '14,359.40000 IDR'),\n",
       " ('3/4/2022', '14,383.20000 IDR'),\n",
       " ('3/7/2022', '14,407.40000 IDR'),\n",
       " ('3/8/2022', '14,363.70000 IDR'),\n",
       " ('3/9/2022', '14,257.95000 IDR'),\n",
       " ('3/10/2022', '14,280.00000 IDR'),\n",
       " ('3/11/2022', '14,327.00000 IDR'),\n",
       " ('3/14/2022', '14,351.50000 IDR'),\n",
       " ('3/15/2022', '14,312.00000 IDR'),\n",
       " ('3/16/2022', '14,267.50000 IDR'),\n",
       " ('3/17/2022', '14,330.50000 IDR'),\n",
       " ('3/18/2022', '14,342.35000 IDR'),\n",
       " ('3/21/2022', '14,341.95000 IDR'),\n",
       " ('3/22/2022', '14,350.50000 IDR'),\n",
       " ('3/23/2022', '14,381.05000 IDR'),\n",
       " ('3/24/2022', '14,362.10000 IDR'),\n",
       " ('3/25/2022', '14,357.40000 IDR'),\n",
       " ('3/28/2022', '14,363.90000 IDR'),\n",
       " ('3/29/2022', '14,347.50000 IDR'),\n",
       " ('3/30/2022', '14,330.50000 IDR'),\n",
       " ('3/31/2022', '14,348.05000 IDR'),\n",
       " ('4/1/2022', '14,371.45000 IDR'),\n",
       " ('4/4/2022', '14,328.90000 IDR'),\n",
       " ('4/5/2022', '14,368.50000 IDR'),\n",
       " ('4/6/2022', '14,380.95000 IDR'),\n",
       " ('4/7/2022', '14,374.45000 IDR'),\n",
       " ('4/8/2022', '14,370.65000 IDR'),\n",
       " ('4/11/2022', '14,373.00000 IDR'),\n",
       " ('4/12/2022', '14,376.50000 IDR'),\n",
       " ('4/13/2022', '14,372.00000 IDR'),\n",
       " ('4/14/2022', '14,383.95000 IDR'),\n",
       " ('4/15/2022', '14,366.76704 IDR'),\n",
       " ('4/18/2022', '14,353.85000 IDR'),\n",
       " ('4/19/2022', '14,375.50000 IDR'),\n",
       " ('4/20/2022', '14,364.00000 IDR'),\n",
       " ('4/21/2022', '14,386.00000 IDR'),\n",
       " ('4/22/2022', '14,470.00000 IDR'),\n",
       " ('4/25/2022', '14,426.50000 IDR'),\n",
       " ('4/26/2022', '14,432.50000 IDR'),\n",
       " ('4/27/2022', '14,447.55000 IDR'),\n",
       " ('4/28/2022', '14,516.00000 IDR'),\n",
       " ('4/29/2022', '14,525.10000 IDR'),\n",
       " ('5/2/2022', '14,526.60000 IDR'),\n",
       " ('5/3/2022', '14,455.80000 IDR'),\n",
       " ('5/4/2022', '14,430.00000 IDR'),\n",
       " ('5/5/2022', '14,458.75000 IDR'),\n",
       " ('5/6/2022', '14,498.65000 IDR'),\n",
       " ('5/9/2022', '14,552.25000 IDR'),\n",
       " ('5/10/2022', '14,526.40000 IDR'),\n",
       " ('5/11/2022', '14,545.90000 IDR'),\n",
       " ('5/12/2022', '14,667.00000 IDR'),\n",
       " ('5/13/2022', '14,665.95000 IDR'),\n",
       " ('5/16/2022', '14,647.20000 IDR'),\n",
       " ('5/17/2022', '14,630.65000 IDR'),\n",
       " ('5/18/2022', '14,740.05000 IDR'),\n",
       " ('5/19/2022', '14,632.60000 IDR'),\n",
       " ('5/20/2022', '14,672.44395 IDR'),\n",
       " ('5/23/2022', '14,625.70000 IDR'),\n",
       " ('5/24/2022', '14,635.75000 IDR'),\n",
       " ('5/25/2022', '14,632.75000 IDR'),\n",
       " ('5/26/2022', '14,610.10000 IDR'),\n",
       " ('5/27/2022', '14,539.40000 IDR'),\n",
       " ('5/30/2022', '14,538.55000 IDR'),\n",
       " ('5/31/2022', '14,580.63428 IDR'),\n",
       " ('6/1/2022', '14,555.60000 IDR'),\n",
       " ('6/2/2022', '14,435.00000 IDR'),\n",
       " ('6/3/2022', '14,433.50000 IDR'),\n",
       " ('6/6/2022', '14,437.70000 IDR'),\n",
       " ('6/7/2022', '14,465.30000 IDR'),\n",
       " ('6/8/2022', '14,513.20000 IDR'),\n",
       " ('6/9/2022', '14,611.85000 IDR'),\n",
       " ('6/10/2022', '14,614.95000 IDR'),\n",
       " ('6/13/2022', '14,782.80000 IDR'),\n",
       " ('6/14/2022', '14,764.20000 IDR'),\n",
       " ('6/15/2022', '14,695.10000 IDR'),\n",
       " ('6/16/2022', '14,809.20000 IDR'),\n",
       " ('6/17/2022', '14,838.85000 IDR'),\n",
       " ('6/20/2022', '14,827.75000 IDR'),\n",
       " ('6/21/2022', '14,833.60000 IDR'),\n",
       " ('6/22/2022', '14,833.90000 IDR'),\n",
       " ('6/23/2022', '14,848.80000 IDR'),\n",
       " ('6/24/2022', '14,829.50000 IDR'),\n",
       " ('6/27/2022', '14,807.70000 IDR'),\n",
       " ('6/28/2022', '14,852.35000 IDR'),\n",
       " ('6/29/2022', '14,868.90000 IDR'),\n",
       " ('6/30/2022', '14,928.80000 IDR'),\n",
       " ('7/1/2022', '14,975.15000 IDR'),\n",
       " ('7/4/2022', '14,994.55000 IDR'),\n",
       " ('7/5/2022', '15,014.65000 IDR'),\n",
       " ('7/6/2022', '14,996.82520 IDR'),\n",
       " ('7/7/2022', '14,964.65000 IDR')]"
      ]
     },
     "execution_count": 10,
     "metadata": {},
     "output_type": "execute_result"
    }
   ],
   "source": [
    "temp = temp[::-1]\n",
    "temp"
   ]
  },
  {
   "cell_type": "markdown",
   "metadata": {},
   "source": [
    "## Creating data frame & Data wrangling"
   ]
  },
  {
   "cell_type": "markdown",
   "metadata": {},
   "source": [
    "Put the array into dataframe"
   ]
  },
  {
   "cell_type": "code",
   "execution_count": 11,
   "metadata": {
    "ExecuteTime": {
     "end_time": "2020-01-13T05:12:41.517372Z",
     "start_time": "2020-01-13T05:12:29.130015Z"
    }
   },
   "outputs": [
    {
     "data": {
      "text/html": [
       "<div>\n",
       "<style scoped>\n",
       "    .dataframe tbody tr th:only-of-type {\n",
       "        vertical-align: middle;\n",
       "    }\n",
       "\n",
       "    .dataframe tbody tr th {\n",
       "        vertical-align: top;\n",
       "    }\n",
       "\n",
       "    .dataframe thead th {\n",
       "        text-align: right;\n",
       "    }\n",
       "</style>\n",
       "<table border=\"1\" class=\"dataframe\">\n",
       "  <thead>\n",
       "    <tr style=\"text-align: right;\">\n",
       "      <th></th>\n",
       "      <th>date</th>\n",
       "      <th>idr</th>\n",
       "    </tr>\n",
       "  </thead>\n",
       "  <tbody>\n",
       "    <tr>\n",
       "      <th>0</th>\n",
       "      <td>1/10/2022</td>\n",
       "      <td>14,290.15000 IDR</td>\n",
       "    </tr>\n",
       "    <tr>\n",
       "      <th>1</th>\n",
       "      <td>1/11/2022</td>\n",
       "      <td>14,284.46501 IDR</td>\n",
       "    </tr>\n",
       "    <tr>\n",
       "      <th>2</th>\n",
       "      <td>1/12/2022</td>\n",
       "      <td>14,298.95000 IDR</td>\n",
       "    </tr>\n",
       "    <tr>\n",
       "      <th>3</th>\n",
       "      <td>1/13/2022</td>\n",
       "      <td>14,309.00000 IDR</td>\n",
       "    </tr>\n",
       "    <tr>\n",
       "      <th>4</th>\n",
       "      <td>1/14/2022</td>\n",
       "      <td>14,314.55000 IDR</td>\n",
       "    </tr>\n",
       "  </tbody>\n",
       "</table>\n",
       "</div>"
      ],
      "text/plain": [
       "        date               idr\n",
       "0  1/10/2022  14,290.15000 IDR\n",
       "1  1/11/2022  14,284.46501 IDR\n",
       "2  1/12/2022  14,298.95000 IDR\n",
       "3  1/13/2022  14,309.00000 IDR\n",
       "4  1/14/2022  14,314.55000 IDR"
      ]
     },
     "execution_count": 11,
     "metadata": {},
     "output_type": "execute_result"
    }
   ],
   "source": [
    "df = pd.DataFrame(temp, columns = ('date','idr'))\n",
    "df.head()"
   ]
  },
  {
   "cell_type": "markdown",
   "metadata": {},
   "source": [
    "Do the data cleaning here (please change this markdown with your explanation of what you do for data wrangling)"
   ]
  },
  {
   "cell_type": "code",
   "execution_count": 12,
   "metadata": {},
   "outputs": [
    {
     "data": {
      "text/plain": [
       "date    object\n",
       "idr     object\n",
       "dtype: object"
      ]
     },
     "execution_count": 12,
     "metadata": {},
     "output_type": "execute_result"
    }
   ],
   "source": [
    "df.dtypes"
   ]
  },
  {
   "cell_type": "code",
   "execution_count": 13,
   "metadata": {
    "ExecuteTime": {
     "end_time": "2020-01-13T05:12:59.165559Z",
     "start_time": "2020-01-13T05:12:58.910012Z"
    },
    "scrolled": true
   },
   "outputs": [],
   "source": [
    "df['date'] = df['date'].astype('datetime64')\n",
    "df['idr'] = df['idr'].str.replace(\" IDR\",\"\")\n",
    "df['idr'] = df['idr'].str.replace(\",\",\"\")\n",
    "df['idr'] = df['idr'].astype('float64')"
   ]
  },
  {
   "cell_type": "code",
   "execution_count": 14,
   "metadata": {
    "scrolled": true
   },
   "outputs": [
    {
     "data": {
      "text/html": [
       "<div>\n",
       "<style scoped>\n",
       "    .dataframe tbody tr th:only-of-type {\n",
       "        vertical-align: middle;\n",
       "    }\n",
       "\n",
       "    .dataframe tbody tr th {\n",
       "        vertical-align: top;\n",
       "    }\n",
       "\n",
       "    .dataframe thead th {\n",
       "        text-align: right;\n",
       "    }\n",
       "</style>\n",
       "<table border=\"1\" class=\"dataframe\">\n",
       "  <thead>\n",
       "    <tr style=\"text-align: right;\">\n",
       "      <th></th>\n",
       "      <th>date</th>\n",
       "      <th>idr</th>\n",
       "    </tr>\n",
       "  </thead>\n",
       "  <tbody>\n",
       "    <tr>\n",
       "      <th>0</th>\n",
       "      <td>2022-01-10</td>\n",
       "      <td>14290.15000</td>\n",
       "    </tr>\n",
       "    <tr>\n",
       "      <th>1</th>\n",
       "      <td>2022-01-11</td>\n",
       "      <td>14284.46501</td>\n",
       "    </tr>\n",
       "    <tr>\n",
       "      <th>2</th>\n",
       "      <td>2022-01-12</td>\n",
       "      <td>14298.95000</td>\n",
       "    </tr>\n",
       "    <tr>\n",
       "      <th>3</th>\n",
       "      <td>2022-01-13</td>\n",
       "      <td>14309.00000</td>\n",
       "    </tr>\n",
       "    <tr>\n",
       "      <th>4</th>\n",
       "      <td>2022-01-14</td>\n",
       "      <td>14314.55000</td>\n",
       "    </tr>\n",
       "  </tbody>\n",
       "</table>\n",
       "</div>"
      ],
      "text/plain": [
       "        date          idr\n",
       "0 2022-01-10  14290.15000\n",
       "1 2022-01-11  14284.46501\n",
       "2 2022-01-12  14298.95000\n",
       "3 2022-01-13  14309.00000\n",
       "4 2022-01-14  14314.55000"
      ]
     },
     "execution_count": 14,
     "metadata": {},
     "output_type": "execute_result"
    }
   ],
   "source": [
    "df.head()"
   ]
  },
  {
   "cell_type": "code",
   "execution_count": 15,
   "metadata": {
    "scrolled": false
   },
   "outputs": [
    {
     "data": {
      "text/plain": [
       "date    datetime64[ns]\n",
       "idr            float64\n",
       "dtype: object"
      ]
     },
     "execution_count": 15,
     "metadata": {},
     "output_type": "execute_result"
    }
   ],
   "source": [
    "df.dtypes"
   ]
  },
  {
   "cell_type": "code",
   "execution_count": 32,
   "metadata": {},
   "outputs": [],
   "source": [
    "df=df.set_index('date')"
   ]
  },
  {
   "cell_type": "code",
   "execution_count": 16,
   "metadata": {},
   "outputs": [
    {
     "data": {
      "text/html": [
       "<div>\n",
       "<style scoped>\n",
       "    .dataframe tbody tr th:only-of-type {\n",
       "        vertical-align: middle;\n",
       "    }\n",
       "\n",
       "    .dataframe tbody tr th {\n",
       "        vertical-align: top;\n",
       "    }\n",
       "\n",
       "    .dataframe thead th {\n",
       "        text-align: right;\n",
       "    }\n",
       "</style>\n",
       "<table border=\"1\" class=\"dataframe\">\n",
       "  <thead>\n",
       "    <tr style=\"text-align: right;\">\n",
       "      <th></th>\n",
       "      <th>date</th>\n",
       "      <th>idr</th>\n",
       "      <th>wday</th>\n",
       "    </tr>\n",
       "  </thead>\n",
       "  <tbody>\n",
       "    <tr>\n",
       "      <th>0</th>\n",
       "      <td>2022-01-10</td>\n",
       "      <td>14290.15000</td>\n",
       "      <td>Monday</td>\n",
       "    </tr>\n",
       "    <tr>\n",
       "      <th>1</th>\n",
       "      <td>2022-01-11</td>\n",
       "      <td>14284.46501</td>\n",
       "      <td>Tuesday</td>\n",
       "    </tr>\n",
       "    <tr>\n",
       "      <th>2</th>\n",
       "      <td>2022-01-12</td>\n",
       "      <td>14298.95000</td>\n",
       "      <td>Wednesday</td>\n",
       "    </tr>\n",
       "    <tr>\n",
       "      <th>3</th>\n",
       "      <td>2022-01-13</td>\n",
       "      <td>14309.00000</td>\n",
       "      <td>Thursday</td>\n",
       "    </tr>\n",
       "    <tr>\n",
       "      <th>4</th>\n",
       "      <td>2022-01-14</td>\n",
       "      <td>14314.55000</td>\n",
       "      <td>Friday</td>\n",
       "    </tr>\n",
       "    <tr>\n",
       "      <th>...</th>\n",
       "      <td>...</td>\n",
       "      <td>...</td>\n",
       "      <td>...</td>\n",
       "    </tr>\n",
       "    <tr>\n",
       "      <th>124</th>\n",
       "      <td>2022-07-01</td>\n",
       "      <td>14975.15000</td>\n",
       "      <td>Friday</td>\n",
       "    </tr>\n",
       "    <tr>\n",
       "      <th>125</th>\n",
       "      <td>2022-07-04</td>\n",
       "      <td>14994.55000</td>\n",
       "      <td>Monday</td>\n",
       "    </tr>\n",
       "    <tr>\n",
       "      <th>126</th>\n",
       "      <td>2022-07-05</td>\n",
       "      <td>15014.65000</td>\n",
       "      <td>Tuesday</td>\n",
       "    </tr>\n",
       "    <tr>\n",
       "      <th>127</th>\n",
       "      <td>2022-07-06</td>\n",
       "      <td>14996.82520</td>\n",
       "      <td>Wednesday</td>\n",
       "    </tr>\n",
       "    <tr>\n",
       "      <th>128</th>\n",
       "      <td>2022-07-07</td>\n",
       "      <td>14964.65000</td>\n",
       "      <td>Thursday</td>\n",
       "    </tr>\n",
       "  </tbody>\n",
       "</table>\n",
       "<p>129 rows × 3 columns</p>\n",
       "</div>"
      ],
      "text/plain": [
       "          date          idr       wday\n",
       "0   2022-01-10  14290.15000     Monday\n",
       "1   2022-01-11  14284.46501    Tuesday\n",
       "2   2022-01-12  14298.95000  Wednesday\n",
       "3   2022-01-13  14309.00000   Thursday\n",
       "4   2022-01-14  14314.55000     Friday\n",
       "..         ...          ...        ...\n",
       "124 2022-07-01  14975.15000     Friday\n",
       "125 2022-07-04  14994.55000     Monday\n",
       "126 2022-07-05  15014.65000    Tuesday\n",
       "127 2022-07-06  14996.82520  Wednesday\n",
       "128 2022-07-07  14964.65000   Thursday\n",
       "\n",
       "[129 rows x 3 columns]"
      ]
     },
     "execution_count": 16,
     "metadata": {},
     "output_type": "execute_result"
    }
   ],
   "source": [
    "df['wday']=df['date'].dt.day_name()\n",
    "df"
   ]
  },
  {
   "cell_type": "markdown",
   "metadata": {},
   "source": [
    "### Implementing your webscrapping to the flask dashboard\n",
    "\n",
    "- Copy paste all of your web scrapping process to the desired position on the `app.py`\n",
    "- Changing the title of the dasboard at `index.html`"
   ]
  },
  {
   "cell_type": "markdown",
   "metadata": {},
   "source": [
    "## Finishing This Notebook with Your Analysis and Conclusion\n",
    "\n",
    "First you can do start with making the data visualisation. "
   ]
  },
  {
   "cell_type": "code",
   "execution_count": 17,
   "metadata": {
    "ExecuteTime": {
     "end_time": "2020-01-13T05:20:56.208237Z",
     "start_time": "2020-01-13T05:20:56.076043Z"
    },
    "scrolled": true
   },
   "outputs": [
    {
     "data": {
      "text/html": [
       "<div>\n",
       "<style scoped>\n",
       "    .dataframe tbody tr th:only-of-type {\n",
       "        vertical-align: middle;\n",
       "    }\n",
       "\n",
       "    .dataframe tbody tr th {\n",
       "        vertical-align: top;\n",
       "    }\n",
       "\n",
       "    .dataframe thead th {\n",
       "        text-align: right;\n",
       "    }\n",
       "</style>\n",
       "<table border=\"1\" class=\"dataframe\">\n",
       "  <thead>\n",
       "    <tr style=\"text-align: right;\">\n",
       "      <th></th>\n",
       "      <th>date</th>\n",
       "      <th>idr</th>\n",
       "      <th>wday</th>\n",
       "    </tr>\n",
       "  </thead>\n",
       "  <tbody>\n",
       "    <tr>\n",
       "      <th>0</th>\n",
       "      <td>2022-01-10</td>\n",
       "      <td>14290.15000</td>\n",
       "      <td>Monday</td>\n",
       "    </tr>\n",
       "    <tr>\n",
       "      <th>1</th>\n",
       "      <td>2022-01-11</td>\n",
       "      <td>14284.46501</td>\n",
       "      <td>Tuesday</td>\n",
       "    </tr>\n",
       "    <tr>\n",
       "      <th>2</th>\n",
       "      <td>2022-01-12</td>\n",
       "      <td>14298.95000</td>\n",
       "      <td>Wednesday</td>\n",
       "    </tr>\n",
       "  </tbody>\n",
       "</table>\n",
       "</div>"
      ],
      "text/plain": [
       "        date          idr       wday\n",
       "0 2022-01-10  14290.15000     Monday\n",
       "1 2022-01-11  14284.46501    Tuesday\n",
       "2 2022-01-12  14298.95000  Wednesday"
      ]
     },
     "execution_count": 17,
     "metadata": {},
     "output_type": "execute_result"
    }
   ],
   "source": [
    "df.head(3)"
   ]
  },
  {
   "cell_type": "code",
   "execution_count": 18,
   "metadata": {
    "scrolled": true
   },
   "outputs": [
    {
     "data": {
      "text/html": [
       "<div>\n",
       "<style scoped>\n",
       "    .dataframe tbody tr th:only-of-type {\n",
       "        vertical-align: middle;\n",
       "    }\n",
       "\n",
       "    .dataframe tbody tr th {\n",
       "        vertical-align: top;\n",
       "    }\n",
       "\n",
       "    .dataframe thead th {\n",
       "        text-align: right;\n",
       "    }\n",
       "</style>\n",
       "<table border=\"1\" class=\"dataframe\">\n",
       "  <thead>\n",
       "    <tr style=\"text-align: right;\">\n",
       "      <th></th>\n",
       "      <th>idr</th>\n",
       "    </tr>\n",
       "    <tr>\n",
       "      <th>wday</th>\n",
       "      <th></th>\n",
       "    </tr>\n",
       "  </thead>\n",
       "  <tbody>\n",
       "    <tr>\n",
       "      <th>Thursday</th>\n",
       "      <td>14494.678846</td>\n",
       "    </tr>\n",
       "    <tr>\n",
       "      <th>Friday</th>\n",
       "      <td>14482.264440</td>\n",
       "    </tr>\n",
       "    <tr>\n",
       "      <th>Tuesday</th>\n",
       "      <td>14478.857425</td>\n",
       "    </tr>\n",
       "    <tr>\n",
       "      <th>Monday</th>\n",
       "      <td>14477.706130</td>\n",
       "    </tr>\n",
       "    <tr>\n",
       "      <th>Wednesday</th>\n",
       "      <td>14474.974046</td>\n",
       "    </tr>\n",
       "  </tbody>\n",
       "</table>\n",
       "</div>"
      ],
      "text/plain": [
       "                    idr\n",
       "wday                   \n",
       "Thursday   14494.678846\n",
       "Friday     14482.264440\n",
       "Tuesday    14478.857425\n",
       "Monday     14477.706130\n",
       "Wednesday  14474.974046"
      ]
     },
     "execution_count": 18,
     "metadata": {},
     "output_type": "execute_result"
    }
   ],
   "source": [
    "df.groupby(\"wday\").mean().sort_values(by=\"idr\", ascending=False)"
   ]
  },
  {
   "cell_type": "markdown",
   "metadata": {},
   "source": [
    "- Rata-rata pergerakan nilai dollar terhadap rupiah tertinggi berada di hari Kamis, sedangkan terendah berada pada hari "
   ]
  },
  {
   "cell_type": "code",
   "execution_count": 19,
   "metadata": {
    "scrolled": true
   },
   "outputs": [
    {
     "data": {
      "text/html": [
       "<div>\n",
       "<style scoped>\n",
       "    .dataframe tbody tr th:only-of-type {\n",
       "        vertical-align: middle;\n",
       "    }\n",
       "\n",
       "    .dataframe tbody tr th {\n",
       "        vertical-align: top;\n",
       "    }\n",
       "\n",
       "    .dataframe thead th {\n",
       "        text-align: right;\n",
       "    }\n",
       "</style>\n",
       "<table border=\"1\" class=\"dataframe\">\n",
       "  <thead>\n",
       "    <tr style=\"text-align: right;\">\n",
       "      <th></th>\n",
       "      <th>date</th>\n",
       "      <th>idr</th>\n",
       "    </tr>\n",
       "    <tr>\n",
       "      <th>wday</th>\n",
       "      <th></th>\n",
       "      <th></th>\n",
       "    </tr>\n",
       "  </thead>\n",
       "  <tbody>\n",
       "    <tr>\n",
       "      <th>Tuesday</th>\n",
       "      <td>2022-07-05</td>\n",
       "      <td>15014.65</td>\n",
       "    </tr>\n",
       "  </tbody>\n",
       "</table>\n",
       "</div>"
      ],
      "text/plain": [
       "              date       idr\n",
       "wday                        \n",
       "Tuesday 2022-07-05  15014.65"
      ]
     },
     "execution_count": 19,
     "metadata": {},
     "output_type": "execute_result"
    }
   ],
   "source": [
    "df.groupby(\"wday\").max().sort_values(by=\"idr\", ascending=False).head(1)"
   ]
  },
  {
   "cell_type": "markdown",
   "metadata": {},
   "source": [
    "- Nilai dollar terhadap rupiah mencapai puncaknya pada tanggal 2022-07-05 dengan nilai sebesar IDR 15.014,65"
   ]
  },
  {
   "cell_type": "code",
   "execution_count": 20,
   "metadata": {},
   "outputs": [
    {
     "data": {
      "text/html": [
       "<div>\n",
       "<style scoped>\n",
       "    .dataframe tbody tr th:only-of-type {\n",
       "        vertical-align: middle;\n",
       "    }\n",
       "\n",
       "    .dataframe tbody tr th {\n",
       "        vertical-align: top;\n",
       "    }\n",
       "\n",
       "    .dataframe thead th {\n",
       "        text-align: right;\n",
       "    }\n",
       "</style>\n",
       "<table border=\"1\" class=\"dataframe\">\n",
       "  <thead>\n",
       "    <tr style=\"text-align: right;\">\n",
       "      <th></th>\n",
       "      <th>date</th>\n",
       "      <th>idr</th>\n",
       "    </tr>\n",
       "    <tr>\n",
       "      <th>wday</th>\n",
       "      <th></th>\n",
       "      <th></th>\n",
       "    </tr>\n",
       "  </thead>\n",
       "  <tbody>\n",
       "    <tr>\n",
       "      <th>Friday</th>\n",
       "      <td>2022-01-14</td>\n",
       "      <td>14314.55</td>\n",
       "    </tr>\n",
       "  </tbody>\n",
       "</table>\n",
       "</div>"
      ],
      "text/plain": [
       "             date       idr\n",
       "wday                       \n",
       "Friday 2022-01-14  14314.55"
      ]
     },
     "execution_count": 20,
     "metadata": {},
     "output_type": "execute_result"
    }
   ],
   "source": [
    "df.groupby(\"wday\").min().sort_values(by=\"idr\", ascending=False).head(1)"
   ]
  },
  {
   "cell_type": "markdown",
   "metadata": {},
   "source": [
    "Nilai dollar terhadap rupiah mencapai puncaknya pada tanggal 2022-01-14 dengan nilai sebesar IDR 14.314,55"
   ]
  },
  {
   "cell_type": "markdown",
   "metadata": {},
   "source": [
    "### Extra Challange\n",
    "\n",
    "This will be not included to the scoring. \n",
    "\n",
    "- You can create additional analysis from the data.\n",
    "- Implement it to the dashboard with at `app.py` dan `index.html`."
   ]
  },
  {
   "cell_type": "code",
   "execution_count": 21,
   "metadata": {
    "scrolled": true
   },
   "outputs": [
    {
     "data": {
      "text/plain": [
       "<AxesSubplot:xlabel='wday'>"
      ]
     },
     "execution_count": 21,
     "metadata": {},
     "output_type": "execute_result"
    },
    {
     "data": {
      "image/png": "[encoded data removed]",
      "text/plain": [
       "<Figure size 432x288 with 1 Axes>"
      ]
     },
     "metadata": {
      "needs_background": "light"
     },
     "output_type": "display_data"
    }
   ],
   "source": [
    "df.groupby('wday').mean().plot()"
   ]
  },
  {
   "cell_type": "markdown",
   "metadata": {},
   "source": [
    "- Rata-rata pergerakan nilai dollar terhadap rupiah tertinggi berada di hari Kamis, sedangkan terendah berada pada hari Rabu "
   ]
  },
  {
   "cell_type": "code",
   "execution_count": 22,
   "metadata": {
    "scrolled": false
   },
   "outputs": [
    {
     "data": {
      "text/html": [
       "<div>\n",
       "<style scoped>\n",
       "    .dataframe tbody tr th:only-of-type {\n",
       "        vertical-align: middle;\n",
       "    }\n",
       "\n",
       "    .dataframe tbody tr th {\n",
       "        vertical-align: top;\n",
       "    }\n",
       "\n",
       "    .dataframe thead th {\n",
       "        text-align: right;\n",
       "    }\n",
       "</style>\n",
       "<table border=\"1\" class=\"dataframe\">\n",
       "  <thead>\n",
       "    <tr style=\"text-align: right;\">\n",
       "      <th></th>\n",
       "      <th>date</th>\n",
       "      <th>idr</th>\n",
       "      <th>wday</th>\n",
       "      <th>yearmonth</th>\n",
       "    </tr>\n",
       "  </thead>\n",
       "  <tbody>\n",
       "    <tr>\n",
       "      <th>0</th>\n",
       "      <td>2022-01-10</td>\n",
       "      <td>14290.15000</td>\n",
       "      <td>Monday</td>\n",
       "      <td>2022-01</td>\n",
       "    </tr>\n",
       "    <tr>\n",
       "      <th>1</th>\n",
       "      <td>2022-01-11</td>\n",
       "      <td>14284.46501</td>\n",
       "      <td>Tuesday</td>\n",
       "      <td>2022-01</td>\n",
       "    </tr>\n",
       "    <tr>\n",
       "      <th>2</th>\n",
       "      <td>2022-01-12</td>\n",
       "      <td>14298.95000</td>\n",
       "      <td>Wednesday</td>\n",
       "      <td>2022-01</td>\n",
       "    </tr>\n",
       "    <tr>\n",
       "      <th>3</th>\n",
       "      <td>2022-01-13</td>\n",
       "      <td>14309.00000</td>\n",
       "      <td>Thursday</td>\n",
       "      <td>2022-01</td>\n",
       "    </tr>\n",
       "    <tr>\n",
       "      <th>4</th>\n",
       "      <td>2022-01-14</td>\n",
       "      <td>14314.55000</td>\n",
       "      <td>Friday</td>\n",
       "      <td>2022-01</td>\n",
       "    </tr>\n",
       "  </tbody>\n",
       "</table>\n",
       "</div>"
      ],
      "text/plain": [
       "        date          idr       wday yearmonth\n",
       "0 2022-01-10  14290.15000     Monday   2022-01\n",
       "1 2022-01-11  14284.46501    Tuesday   2022-01\n",
       "2 2022-01-12  14298.95000  Wednesday   2022-01\n",
       "3 2022-01-13  14309.00000   Thursday   2022-01\n",
       "4 2022-01-14  14314.55000     Friday   2022-01"
      ]
     },
     "execution_count": 22,
     "metadata": {},
     "output_type": "execute_result"
    }
   ],
   "source": [
    "df['yearmonth']=df['date'].dt.to_period('M')\n",
    "df.head()"
   ]
  },
  {
   "cell_type": "code",
   "execution_count": 23,
   "metadata": {
    "scrolled": true
   },
   "outputs": [
    {
     "data": {
      "image/png": "[encoded data removed]",
      "text/plain": [
       "<Figure size 432x288 with 1 Axes>"
      ]
     },
     "metadata": {
      "needs_background": "light"
     },
     "output_type": "display_data"
    }
   ],
   "source": [
    "yearmonth = df.groupby('yearmonth').mean().plot()"
   ]
  },
  {
   "cell_type": "markdown",
   "metadata": {},
   "source": [
    "- tren nilai dollar terhadap rupiah mengalami fluktuasi, namun memiliki kencenderungan terus meningkat dalam 7 bulan pertama (Jan to Jul) 2022"
   ]
  }
 ],
 "metadata": {
  "kernelspec": {
   "display_name": "sparta_da",
   "language": "python",
   "name": "sparta_da"
  },
  "language_info": {
   "codemirror_mode": {
    "name": "ipython",
    "version": 3
   },
   "file_extension": ".py",
   "mimetype": "text/x-python",
   "name": "python",
   "nbconvert_exporter": "python",
   "pygments_lexer": "ipython3",
   "version": "3.9.12"
  },
  "toc": {
   "base_numbering": 1,
   "nav_menu": {},
   "number_sections": true,
   "sideBar": true,
   "skip_h1_title": false,
   "title_cell": "Table of Contents",
   "title_sidebar": "Contents",
   "toc_cell": false,
   "toc_position": {},
   "toc_section_display": true,
   "toc_window_display": false
  }
 },
 "nbformat": 4,
 "nbformat_minor": 2
}
